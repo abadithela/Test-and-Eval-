{
 "cells": [
  {
   "cell_type": "code",
   "execution_count": 1,
   "metadata": {},
   "outputs": [
    {
     "name": "stderr",
     "output_type": "stream",
     "text": [
      "`omega.symbolic.symbolic` failed to import `dd.cudd`.\n",
      "Will use `dd.autoref`.\n"
     ]
    }
   ],
   "source": [
    "# Importing necessary libraries\n",
    "import logging\n",
    "from tulip import spec\n",
    "from tulip import synth\n",
    "from tulip.transys import machines\n",
    "from tulip import dumpsmach\n",
    "\n",
    "logging.basicConfig(level=logging.WARNING)\n",
    "\n",
    "# User inputs:\n",
    "# File name to store control strategy:\n",
    "fname = \"strategy_simple_runner_blocker.py\"\n",
    "class_name = \"runner\""
   ]
  },
  {
   "cell_type": "code",
   "execution_count": 2,
   "metadata": {},
   "outputs": [],
   "source": [
    "# Modeling environment variables:\n",
    "env_vars = {}\n",
    "env_vars['Cr'] = (1,5)\n",
    "env_init = {'(Cr = 2)'} # empty set\n",
    "# Car is not patrolling. It is moving anywhere in the center two columns\n",
    "env_safe = {'(Cr = 2) -> X(Cr = 3)', \n",
    "            '(Cr = 3) -> X(Cr = 2 || Cr = 4)', \n",
    "            '(Cr = 4) -> X(Cr = 3)', \n",
    "            '(Cr = 1) -> X(Cr = 1)', \n",
    "            '(Cr = 5) -> X(Cr = 5)'\n",
    "            } \n",
    "env_prog = {} # Env. has no goal"
   ]
  },
  {
   "cell_type": "code",
   "execution_count": 3,
   "metadata": {},
   "outputs": [],
   "source": [
    "# Modeling system variables:\n",
    "# Goal vertex is modified to be a sink vertex. Then reachability spec eventually(goal) \n",
    "# is the same as Buchi spec. always eventually (goal).\n",
    "sys_vars = {}\n",
    "sys_vars['Xr'] = (1, 5)\n",
    "sys_init = {'Xr=1'}\n",
    "sys_safe = {'(Xr=1) -> X(Xr = 1||Xr = 2||Xr = 3||Xr = 4)',\n",
    "            '(Xr = 2) -> X(Xr = 1||Xr = 2||Xr = 3||Xr = 5)',\n",
    "            '(Xr = 3) -> X(Xr = 1||Xr = 2||Xr = 3||Xr = 4||Xr = 5)',\n",
    "            '(Xr = 4) -> X(Xr = 1||Xr = 3||Xr = 4||Xr = 5)',\n",
    "            '(Xr = 5) -> X(Xr =5)'} # Sink vertex\n",
    "sys_prog = {'Xr=5'} # []<>(Xr = 5)"
   ]
  },
  {
   "cell_type": "code",
   "execution_count": 4,
   "metadata": {},
   "outputs": [
    {
     "name": "stdout",
     "output_type": "stream",
     "text": [
      "removed 0 nodes from 6 total\n"
     ]
    }
   ],
   "source": [
    "# Creating GR(1) specification:\n",
    "specs = spec.GRSpec(env_vars, sys_vars, env_init, sys_init, env_safe, sys_safe, env_prog, sys_prog)\n",
    "specs.qinit = '\\E \\A'\n",
    "strategy = synth.synthesize(specs)\n",
    "assert strategy is not None, 'unrealizable'\n"
   ]
  },
  {
   "cell_type": "code",
   "execution_count": 5,
   "metadata": {},
   "outputs": [],
   "source": [
    "# Save strategy to file:\n",
    "dumpsmach.write_python_case(fname, strategy, classname=class_name)"
   ]
  },
  {
   "cell_type": "code",
   "execution_count": null,
   "metadata": {},
   "outputs": [],
   "source": []
  }
 ],
 "metadata": {
  "kernelspec": {
   "display_name": "Python 3",
   "language": "python",
   "name": "python3"
  },
  "language_info": {
   "codemirror_mode": {
    "name": "ipython",
    "version": 3
   },
   "file_extension": ".py",
   "mimetype": "text/x-python",
   "name": "python",
   "nbconvert_exporter": "python",
   "pygments_lexer": "ipython3",
   "version": "3.7.6"
  }
 },
 "nbformat": 4,
 "nbformat_minor": 4
}
